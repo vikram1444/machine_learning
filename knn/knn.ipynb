# machine_learning
# Load the Pandas libraries with alias 'pd'
import pandas as pd
import math
# Read data from file 'filename.csv'
# (in the same directory that your python process is based)
# Control delimiters, rows, column names with read_csv (see later)
data1 = pd.read_csv("/home/vikram/Desktop/trainProdSelection.csv")
data2 = pd.read_csv("/home/vikram/Desktop/testProdSelection.csv")
# Preview the first 5 lines of the loaded data 
# print(data1.head(5))
# print(data2.head(5))
# print(data1.shape[0])
temp=0
lis=[]
i=0
j=0
k=3
for inn,row2 in data2.iterrows():
 lss=[]
 i+=1
 for index, row in data1.iterrows():
    j+=1
    lss.append(math.sqrt(math.pow(row2['Vacation']-row['Vacation'],2)
          +math.pow(row2['eCredit']-row['eCredit'],2)+
          math.pow(row2['salary']-row['salary'],2)+
          math.pow(row2['property']-row['property'],2)
          ))
 data1[i] = lss
 dic = {}
 llll=[]
 ttt=0
 prevv="asssa"
 data2['c']=""
 kan=0
for jj in range(1,22):
    data1.sort_values(jj,inplace=True)
    kkkk = 0
    for index, row in data1.iterrows():
        if(kkkk >= k):
            break
        kkkk+=1
        if row['label'] in dic.keys():
          dic[row['label']]+=1
        else:
          dic[row['label']]=0

    for bis in dic.keys():
          if(dic[bis]>ttt):
             prevv=bis
          elif(dic[bis]==ttt):
              if(bis<prevv):
                  prevv=bis
    data2['c'][kan]=prevv
    kan+=1
    dic.clear()
print(data2)
correct=0
for index,x in data2.iterrows():
		if (x['label'] == x['c']):
			correct += 1
print((correct/float(len(data2['label']))) * 100.0)
